{
 "cells": [
  {
   "cell_type": "markdown",
   "source": [
    "# Program Paradigms\n",
    "아래의 3개보다는 더 많은 paradigm들이 존재하지만, 가장 대표적이고 데이터 분석에 많이 쓰이는 언어들의 paradigm은 아래 3개이기 때문에, 다른건 스스로 공부하면서 맞닥뜨렸을 때 알아봐도 문제없음. \n",
    "\n",
    "## 1. Procedural Oriented Programming (POP)\n",
    "말 그대로 절차 지향적인 프로그래밍이다. 수학의 함수를 생각하면 쉽다. 즉, 공역과 치역이 있고, 공역을 치역으로 바꾸어주는 프로세스를 코딩하는 것이다. 물론 코딩이기 때문에 공역과 치역이 숫자를 제외한 데이터 또는 그러한 데이터들의 집합이어도 된다. 프로세스는 굳이 수치적인 계산 뿐 아니라 화면에 그래프를 띄운다던지, 특정 논리식을 계산하는 것도 가능하다. 우리는 데이터를 처리하는 것이 코딩의 목적이기 때문에 주로 POP식으로 파이썬 프로그래밍을 하게 될 것이다.  \n",
    "  \n",
    "이러한 프로그래밍 방식은 이과인 우리들에게는 개념 뿐만 아니라 순차적으로 무언가를 한다는 것 떄문에 익숙한 방식이다. 또한 개인적으로 데이터를 다룰 때는 후술할 OOP보다 POP가 프로그래밍 전에 고려해야할 것들이 적은 거 같다. 따라서 개발이 목적이 아닌 반복적인 계산을 수월하게 하기 위해 코딩을 하는 우리의 목적에는 생각을 좀 덜 해도 되는 POP가 조금 더 적합할 것이다.  \n",
    "  \n",
    "조심해야할 점은 수학에서의 함수와 같이 함수에 주어지는 인자들은 공역에 해당하는 인자들이어야 한다는 것이다. 그렇지 않다면 에러가 뜬다. 심지어 에러가 뜨면 다행이다. 데이터 분석을 하는데 인자가 잘못 전달된 상태에서 에러가 안 뜨고 계산이 된다면 그게 더 문제가 된다. 그러니 POP를 사용할 때는 함수에 넘겨주는 인자를 조심하자.  \n",
    "## 2. Object Oriented Programming (OOP)\n",
    "객체 지향 프로그래밍이다. 인간에게는 이 프로그래밍 방식이 더욱 자연스럽다고 한다. (물론 앞서 서술한 바와 같이, 개인적인 경험에 따르면 이과에게는 POP가 조금 더 수월하게 느껴질 가능성이 크다.) 아무튼 OOP는 세상에 있는 물체들을 서로 비슷한 성질들을 묶어서 추상화한 객체(object)를 만들어서 코딩하는 방식이다. 예를 들어 철수와 영희는 둘 다 '인간'이라는 카테고리로 묶을 수 있고, 이때 '인간'이라는 카테고리를 추상화시켜 인간을 이루는 요소(키, 몸무게, IQ 등)들에 값을 부여함으로써 instance를 만드는 것이다.  \n",
    "  \n",
    "객체를 만드는 것으로 어떻게 코딩을 하는지 궁금할 수가 있다. 각 객체가 할 수 있는 행동(method)를 정의하면 된다. 이때 이러한 행동을 method라고 하는데, 이는 오직 그 객체를 통해서만 실행이 가능하면서, 해당 행동을 하는 객체가 무조건 인자로 전달된다는 특징이 있다. 즉, 함수형 프로그래밍에서 인자가 잘못 전달되어서 이상한 계산이 실행되는 경우를 줄일 수 있다는 것이다. 하지만, 객체를 코딩 전에 설계를 해야한다는 점에 있어서 POP가 더 편할 수도 있다. 따라서 실제로 코딩을 할 때 있어서 처음에는 POP를 이용해서 코딩을 해서 급한 결과를 뽑고, 그렇게 짠 코드를 OOP로 만드는 것이 개인적으로는 가장 좋은 접근 방식인 것 같다.  \n",
    "  \n",
    "OOP는 자신만의 데이터 객체를 만드는 데에 있어서 유용하다. 그냥 순전히 이미 만들어진 객체들을 모을 수도 있고, 여러 기능들을 추가하는 것으로 새로운 데이터 객체를 만들 수도 있다. 그리고 이렇게 만든 객체들과 행동들을 사용해서 POP적인 코딩을 또 할 수 있다. 즉, POP와 OOP는 서로 상반되는 코딩 방식이지만, 둘 모두를 적절하게 사용하는 것이 좋다. 경험에 의하면 데이터와 그 전처리는 OOP로, 전처리된 데이터들로 계산할 때는 POP를 사용하는 것이 좋았다.  \n",
    "\n",
    "## 3. Function Oriented Programming A.K.A. Functinal Programming (FOP, FP)\n",
    "약간 POP랑 OOP의 사이라고 보면 된다. (이래서 요새 뜨는 건지도 모르겠다.) OOP의 객체가 함수가 되는 느낌이다. 즉 하나의 객체를 다른 객체로 mapping하는 함수를 만들고 이를 순차적으로 적용하는 프로그래밍 방식이다. 사실 개인적으로 잘 쓰진 않는다. 파이썬이 functional한 프로그래밍이 가능하기도 하고, 개인적으로 이 디자인 파라다임을 사용해서 일부 기능을 구현하기도 했지만, 굳이 배울 필요는 없다. 하지만, 이렇게 짜면 더 효율적일수도 있고,  더 간지(?)나게 프로그래밍을 할 수도 있다. 일부 파이썬 모듈은 함수형 프로그래밍을 조금 해야 이해할 수도 있다. 그래서 이런게 있다라는 것만 알아두면 좋을 것이다. 또한 요새 많은 프로그래밍 언어들이 FP를 채택하고 있다. 요새 뜨는 (사실 이미 많이 뜬) Rust라는 언어가 이 paradigm을 채택했다. 그래서 이런게 있다 정도로만 알아두자. "
   ],
   "metadata": {
    "collapsed": false
   },
   "id": "443ca1745989bccd"
  },
  {
   "cell_type": "code",
   "execution_count": 5,
   "outputs": [
    {
     "name": "stdout",
     "output_type": "stream",
     "text": [
      "Hello World\n"
     ]
    }
   ],
   "source": [
    "# 모든 프로그래밍 책을 보면 Hello World를 출력하는 것으로 시작한다. 이는 코딩 환경이 잘 세팅 됐는지 확인하는 절차이다. \n",
    "\n",
    "print('Hello World')"
   ],
   "metadata": {
    "collapsed": false,
    "ExecuteTime": {
     "end_time": "2023-08-07T04:05:45.663955300Z",
     "start_time": "2023-08-07T04:05:45.522871900Z"
    }
   },
   "id": "initial_id"
  },
  {
   "cell_type": "markdown",
   "source": [
    "# Tuple and List\n",
    "이미 어느 정도 안다고 가정하겠다. 만약 모른다면 [tuple](https://dojang.io/mod/page/view.php?id=2201) 그리고 [list](https://dojang.io/mod/page/view.php?id=2200) 링크로 가서 읽어보고 오는 게 좋다.\n",
    "\n",
    "## Similarities\n",
    "1. Iterable object. 즉, iterator이다. 파이썬 적으로는 .\\__iter__(), .\\__next__()라는 method들을 가진 객체이다. 좀 더 쉬운 말로는 반복 작업이 가능한 객체이다. 예를 들어 'for i in numbers'에서 in 뒤에 올 수 있는 객체들이다.\n",
    "2. Array (배열) of objects. 객체들의 배열이다. 다른 언어들과는 다르게 파이썬 list는 서로 다른 객체들의 배열을 만드는 것도 가능하다.\n",
    "\n",
    "## Difference\n",
    "| Data Type |                      Characteristic                      | \n",
    "|:---------:|:--------------------------------------------------------:|\n",
    "|   Tuple   | Immutable. 저장된 데이터를 수정하거나 지울 수 없다. 즉, 만들어진 이후로는 읽기 전용이다. |  \n",
    "|   List    |            Mutable. 저장된 데이터를 수정하거나 지울 수 있다.              | \n",
    "\n",
    "이 둘은 iterator이면서 어떠한 객체도 담은 수 있는 container로 활용이 가능하기 때문에 tuple을 사용하는 곳에 list를, list를 사용하는 곳에 tuple을 사용할 수 있다. 하지만 tuple은 수정이 불가하기 떄문에 list가 제공하는 method가 더 다채롭기 떄문에 tuple보다 list를 사용하는 편이다.  \n",
    "  \n",
    "개인적으로 tuple은 raw데이터를 저장하고, 이를 계산하고 저장하는 것은 list를 사용한다. 이떄 raw 데이터에 전처리가 필요할 때가 있는데, 이럴 때는 tuple을 list로 바꾸고 전처리 후 다시 tuple로 바꾸는 방식을 선호한다.  "
   ],
   "metadata": {
    "collapsed": false
   },
   "id": "7a08109363a6b04e"
  },
  {
   "cell_type": "markdown",
   "source": [
    "# Tuple and List Examples."
   ],
   "metadata": {
    "collapsed": false
   },
   "id": "5ea4c2e1fa04ce81"
  },
  {
   "cell_type": "code",
   "execution_count": 10,
   "outputs": [
    {
     "name": "stdout",
     "output_type": "stream",
     "text": [
      "List: [0, 1, 2, 3, 4, 5, 6, 7, 8, 9, 10]\n",
      "Tuple: (0, 1, 2, 3, 4, 5, 6, 7, 8, 9, 10)\n",
      "\n",
      "Iterating list: 0, 1, 2, 3, 4, 5, 6, 7, 8, 9, 10\n",
      "Iterating tuple: 0, 1, 2, 3, 4, 5, 6, 7, 8, 9, 10\n",
      "\n",
      "Result of zip:  [(0, 0), (1, 1), (2, 2), (3, 3), (4, 4), (5, 5), (6, 6), (7, 7), (8, 8), (9, 9), (10, 10)]\n",
      "| List |Tuple |\n",
      "|  0   |  0   |\n",
      "|  1   |  1   |\n",
      "|  2   |  2   |\n",
      "|  3   |  3   |\n",
      "|  4   |  4   |\n",
      "|  5   |  5   |\n",
      "|  6   |  6   |\n",
      "|  7   |  7   |\n",
      "|  8   |  8   |\n",
      "|  9   |  9   |\n",
      "|  10  |  10  |\n"
     ]
    }
   ],
   "source": [
    "# Simple but tedious way of creating list and tuple\n",
    "zero_to_ten_list = [0, 1, 2, 3, 4, 5, 6, 7, 8, 9, 10]\n",
    "zero_to_ten_tuple = (0, 1, 2, 3, 4, 5, 6, 7, 8, 9, 10)\n",
    "print(f'List: {zero_to_ten_list}')\n",
    "print(f'Tuple: {zero_to_ten_tuple}')\n",
    "\n",
    "# Similarities\n",
    "print('\\nIterating list: ', end='')\n",
    "for number in zero_to_ten_list:\n",
    "    print(number, end=', ' if number < 10 else '\\n')\n",
    "    # <a> if <conditional statement> else <b> \n",
    "    # 위 문장은 파이썬 식 삼항 연산자이다. 쉽게 말해 길게 써야 하는 조건문을 간단하게 한 줄로 만들어 주는 역할이다.\n",
    "    # 자세히 읽어보면 그냥 영어 읽듯이 읽으면 언제 해당 statement가  <a>가 되는지 또는 언제 <b>가 되는지 쉽게 알 수 있다.\n",
    "\n",
    "print('Iterating tuple: ', end='')\n",
    "for number in zero_to_ten_tuple:\n",
    "    print(number, end=', ' if number < 10 else '\\n')\n",
    "\n",
    "# 위의 두 반복문은 똑같은 결과를 낼 것이다. 이는 list와 tuple의 similarity에 의한 것이다.\n",
    "# 이를 이용해 다음과 같이 zip이라는 파이썬 내장함수를 사용해 반복문을 동시에 돌릴 수 있다.\n",
    "# zip이라는 함수는 실제 데이터 분석에서 반복을 돌릴 때 매우 유용하게 쓰인다.\n",
    "\n",
    "print('\\nResult of zip: ', list(zip(zero_to_ten_list, zero_to_ten_tuple)))  # zip의 결과물을 확인.\n",
    "print(f'|{\"List\":^6}|{\"Tuple\":^6}|')\n",
    "for list_num, tuple_num in zip(zero_to_ten_list, zero_to_ten_tuple):\n",
    "    print(f'|{list_num:^6}|{tuple_num:^6}|')\n",
    "    "
   ],
   "metadata": {
    "collapsed": false,
    "ExecuteTime": {
     "end_time": "2023-08-07T04:18:49.035510600Z",
     "start_time": "2023-08-07T04:18:49.005228600Z"
    }
   },
   "id": "7fffb70bec7daaf5"
  },
  {
   "cell_type": "code",
   "execution_count": 12,
   "outputs": [
    {
     "ename": "TypeError",
     "evalue": "'tuple' object does not support item assignment",
     "output_type": "error",
     "traceback": [
      "\u001B[1;31m---------------------------------------------------------------------------\u001B[0m",
      "\u001B[1;31mTypeError\u001B[0m                                 Traceback (most recent call last)",
      "Cell \u001B[1;32mIn[12], line 4\u001B[0m\n\u001B[0;32m      1\u001B[0m \u001B[38;5;66;03m# Difference\u001B[39;00m\n\u001B[0;32m      2\u001B[0m \u001B[38;5;66;03m# 첫번째 원소를 11로 바꾸려고 해보자.\u001B[39;00m\n\u001B[0;32m      3\u001B[0m zero_to_ten_list[\u001B[38;5;241m0\u001B[39m] \u001B[38;5;241m=\u001B[39m \u001B[38;5;241m11\u001B[39m   \u001B[38;5;66;03m# 바뀜.\u001B[39;00m\n\u001B[1;32m----> 4\u001B[0m zero_to_ten_tuple[\u001B[38;5;241m0\u001B[39m] \u001B[38;5;241m=\u001B[39m \u001B[38;5;241m11\u001B[39m\n",
      "\u001B[1;31mTypeError\u001B[0m: 'tuple' object does not support item assignment"
     ]
    }
   ],
   "source": [
    "# Difference\n",
    "# 첫번째 원소를 11로 바꾸려고 해보자.\n",
    "zero_to_ten_list[0] = 11   # 바뀜.\n",
    "zero_to_ten_tuple[0] = 11  # 바뀌지 않음. 에러 발생."
   ],
   "metadata": {
    "collapsed": false,
    "ExecuteTime": {
     "end_time": "2023-08-07T04:21:38.534714900Z",
     "start_time": "2023-08-07T04:21:38.475121400Z"
    }
   },
   "id": "d3951aa3cfac65ef"
  },
  {
   "cell_type": "code",
   "execution_count": 14,
   "outputs": [
    {
     "name": "stdout",
     "output_type": "stream",
     "text": [
      "[11, 1, 2, 3, 4, 5, 6, 7, 8, 9, 10]\n",
      "(11, 1, 2, 3, 4, 5, 6, 7, 8, 9, 10)\n"
     ]
    }
   ],
   "source": [
    "# 이런 경우 tuple을 list로 바꾼 후 데이터 처리. 그 이후 다시 tuple로 바꾸면 해결된다.\n",
    "# 웬만해서는 tuple로 만든 데이터는 수정하지 않는 것이 베스트이다. \n",
    "# 하지만, 진짜 필요에 따라서는 수정해야 하는데 이때 이러한 방식을 사용하면 좋다.\n",
    "zero_to_ten_tuple = list(zero_to_ten_tuple)\n",
    "zero_to_ten_tuple[0] = 11\n",
    "zero_to_ten_tuple = tuple(zero_to_ten_tuple)\n",
    "print(zero_to_ten_tuple)"
   ],
   "metadata": {
    "collapsed": false,
    "ExecuteTime": {
     "end_time": "2023-08-07T04:21:46.345066700Z",
     "start_time": "2023-08-07T04:21:46.322335200Z"
    }
   },
   "id": "1940e120d37bf484"
  },
  {
   "cell_type": "code",
   "execution_count": 15,
   "outputs": [
    {
     "name": "stdout",
     "output_type": "stream",
     "text": [
      "Range to list: [0, 2, 4, 6, 8, 10]\n",
      "Range to tuple: (0, 2, 4, 6, 8, 10)\n"
     ]
    }
   ],
   "source": [
    "# range를 이용해서 list와 tuple 만들기\n",
    "example_list = list(range(0, 11, 2))  # range(start, end, step)이다.\n",
    "example_tuple = tuple(range(0, 11, 2)) # end는 포함되지 않는다. \n",
    "                                       # step은 start부터 end - 1까지의 수를 얼마나 띄워가며 셀 것인지 정하는 것이다.\n",
    "print(f'Range to list: {example_list}')\n",
    "print(f'Range to tuple: {example_tuple}')"
   ],
   "metadata": {
    "collapsed": false,
    "ExecuteTime": {
     "end_time": "2023-08-07T04:27:44.632982300Z",
     "start_time": "2023-08-07T04:27:44.543024600Z"
    }
   },
   "id": "38ba994f0b6d2ddd"
  },
  {
   "cell_type": "code",
   "execution_count": 19,
   "outputs": [
    {
     "name": "stdout",
     "output_type": "stream",
     "text": [
      "[0, 1, 2, 3, 4, 5, 6, 7, 8, 9]\n",
      "Even numbers: [1, 3, 5, 7, 9]\n",
      "Even number and 2 * odd numbers: [0, 1, 4, 3, 8, 5, 12, 7, 16, 9]\n"
     ]
    }
   ],
   "source": [
    "# List comprehension을 통한 list만들기\n",
    "# 그냥 영어 읽듯이 하면 된다. \n",
    "# 이건 외우는게 답이다. 자주 쓰다 보면 자연스럽게 외워지니까, 리스트를 만들 때 list comprehension을 쓰려고 노력하자.\n",
    "comprehension_example = [i for i in range(10)]\n",
    "print(comprehension_example)\n",
    "\n",
    "# 조건이 있는 list comprehension\n",
    "# 앞서 언급한 삼한 연산자를 사용하면 특정 조건을 만족하는 리스트를 만드는 것도 가능하다.\n",
    "# 다른 점은 <condition>을 만족할 때만 리스트에 추가하려면 if <condition>은 for문 뒤에 오고\n",
    "# <condition>을 만족할 때와 안 할 때 모두 특정 값을 리스트에 추가하려면 if <condition> else는 for문 앞에 온다.\n",
    "comprehension_example = [i for i in range(10) if i % 2]  # 짝수만 있는 리스트 (if만 있는 경우)\n",
    "print(f'Even numbers: {comprehension_example}')\n",
    "comprehension_example = [i if i % 2 else 2 * i for i in range(10)]  # 짝수는 그대로, 홀수는 2가 곱해진 리스트. (if, else가 있는 경우.\n",
    "print(f'Even number and 2 * odd numbers: {comprehension_example}')"
   ],
   "metadata": {
    "collapsed": false,
    "ExecuteTime": {
     "end_time": "2023-08-07T04:37:29.848387200Z",
     "start_time": "2023-08-07T04:37:29.822529800Z"
    }
   },
   "id": "c94f604a4b667d06"
  },
  {
   "cell_type": "markdown",
   "source": [
    "# Dictionary\n",
    "\n"
   ],
   "metadata": {
    "collapsed": false
   },
   "id": "fe45acedd3a10004"
  },
  {
   "cell_type": "code",
   "execution_count": null,
   "outputs": [],
   "source": [],
   "metadata": {
    "collapsed": false
   },
   "id": "a42fdd249bf4c8b5"
  }
 ],
 "metadata": {
  "kernelspec": {
   "display_name": "Python 3",
   "language": "python",
   "name": "python3"
  },
  "language_info": {
   "codemirror_mode": {
    "name": "ipython",
    "version": 2
   },
   "file_extension": ".py",
   "mimetype": "text/x-python",
   "name": "python",
   "nbconvert_exporter": "python",
   "pygments_lexer": "ipython2",
   "version": "2.7.6"
  }
 },
 "nbformat": 4,
 "nbformat_minor": 5
}

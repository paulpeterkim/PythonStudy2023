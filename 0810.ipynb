{
 "cells": [
  {
   "cell_type": "markdown",
   "source": [
    "# Unpacking Review"
   ],
   "metadata": {
    "collapsed": false
   },
   "id": "d64606c3218b2b3f"
  },
  {
   "cell_type": "code",
   "execution_count": 24,
   "outputs": [
    {
     "name": "stdout",
     "output_type": "stream",
     "text": [
      "1 3 2\n"
     ]
    }
   ],
   "source": [
    "ex_tuple = (1, 2, 3)\n",
    "x, z, y = ex_tuple\n",
    "print(x, y, z)"
   ],
   "metadata": {
    "collapsed": false,
    "ExecuteTime": {
     "end_time": "2023-08-10T10:36:42.194868300Z",
     "start_time": "2023-08-10T10:36:42.162537Z"
    }
   },
   "id": "initial_id"
  },
  {
   "cell_type": "code",
   "execution_count": 25,
   "outputs": [
    {
     "data": {
      "text/plain": "{0: 0, 1: 1, 2: 4, 3: 9, 4: 16, 5: 25, 6: 36, 7: 49, 8: 64, 9: 81}"
     },
     "execution_count": 25,
     "metadata": {},
     "output_type": "execute_result"
    }
   ],
   "source": [
    "ex_dict = {i: i ** 2 for i in range(10)}\n",
    "ex_dict"
   ],
   "metadata": {
    "collapsed": false,
    "ExecuteTime": {
     "end_time": "2023-08-10T10:36:47.213776Z",
     "start_time": "2023-08-10T10:36:47.183678600Z"
    }
   },
   "id": "b49a6e1af1009fd8"
  },
  {
   "cell_type": "code",
   "execution_count": 26,
   "outputs": [
    {
     "name": "stdout",
     "output_type": "stream",
     "text": [
      "key: 0, value: 0\n",
      "key: 1, value: 1\n",
      "key: 2, value: 4\n",
      "key: 3, value: 9\n",
      "key: 4, value: 16\n",
      "key: 5, value: 25\n",
      "key: 6, value: 36\n",
      "key: 7, value: 49\n",
      "key: 8, value: 64\n",
      "key: 9, value: 81\n"
     ]
    }
   ],
   "source": [
    "for key, val in ex_dict.items():\n",
    "    print(f'key: {key}, value: {val}')"
   ],
   "metadata": {
    "collapsed": false,
    "ExecuteTime": {
     "end_time": "2023-08-10T10:36:49.666783900Z",
     "start_time": "2023-08-10T10:36:49.631610300Z"
    }
   },
   "id": "f8786edb572f268f"
  },
  {
   "cell_type": "code",
   "execution_count": 27,
   "outputs": [
    {
     "name": "stdout",
     "output_type": "stream",
     "text": [
      "x: 0, x^2: 0, x^3: 0\n",
      "x: 1, x^2: 1, x^3: 1\n",
      "x: 2, x^2: 4, x^3: 8\n",
      "x: 3, x^2: 9, x^3: 27\n",
      "x: 4, x^2: 16, x^3: 64\n",
      "x: 5, x^2: 25, x^3: 125\n",
      "x: 6, x^2: 36, x^3: 216\n",
      "x: 7, x^2: 49, x^3: 343\n",
      "x: 8, x^2: 64, x^3: 512\n",
      "x: 9, x^2: 81, x^3: 729\n"
     ]
    }
   ],
   "source": [
    "ex_list_1: list = [i for i in range(10)] # 0 ~ 9\n",
    "ex_list_2: list = [i ** 2 for i in range(10)] # 0 ~ 9까지 제곱\n",
    "ex_list_3: list = [i ** 3 for i in range(10)] # 0 ~ 9까지 세제곱\n",
    "    \n",
    "for x, squared, cubed in zip(ex_list_1, ex_list_2, ex_list_3):\n",
    "    print(f'x: {x}, x^2: {squared}, x^3: {cubed}')"
   ],
   "metadata": {
    "collapsed": false,
    "ExecuteTime": {
     "end_time": "2023-08-10T10:36:52.009780Z",
     "start_time": "2023-08-10T10:36:51.971703600Z"
    }
   },
   "id": "c79dc20251e33604"
  },
  {
   "cell_type": "code",
   "execution_count": 28,
   "outputs": [
    {
     "name": "stdout",
     "output_type": "stream",
     "text": [
      "idx: 0, val: 0\n",
      "idx: 1, val: 1\n",
      "idx: 2, val: 8\n",
      "idx: 3, val: 27\n",
      "idx: 4, val: 64\n",
      "idx: 5, val: 125\n",
      "idx: 6, val: 216\n",
      "idx: 7, val: 343\n",
      "idx: 8, val: 512\n",
      "idx: 9, val: 729\n"
     ]
    }
   ],
   "source": [
    "for idx, val in enumerate(ex_list_3):\n",
    "    print(f'idx: {idx}, val: {val}')"
   ],
   "metadata": {
    "collapsed": false,
    "ExecuteTime": {
     "end_time": "2023-08-10T10:36:54.007811300Z",
     "start_time": "2023-08-10T10:36:53.976312500Z"
    }
   },
   "id": "87b61ad5afebef36"
  },
  {
   "cell_type": "code",
   "execution_count": 29,
   "outputs": [
    {
     "name": "stdout",
     "output_type": "stream",
     "text": [
      "[0, 1, 2, 3, 4, 5, 6, 7, 8, 9]\n",
      "[0, 1, 4, 9, 16, 25, 36, 49, 64, 81]\n",
      "[0, 1, 8, 27, 64, 125, 216, 343, 512, 729]\n"
     ]
    },
    {
     "data": {
      "text/plain": "[(0, 0, 0),\n (1, 1, 1),\n (2, 4, 8),\n (3, 9, 27),\n (4, 16, 64),\n (5, 25, 125),\n (6, 36, 216),\n (7, 49, 343),\n (8, 64, 512),\n (9, 81, 729)]"
     },
     "execution_count": 29,
     "metadata": {},
     "output_type": "execute_result"
    }
   ],
   "source": [
    "print(ex_list_1)\n",
    "print(ex_list_2)\n",
    "print(ex_list_3)\n",
    "list(zip(ex_list_1, ex_list_2, ex_list_3))\n",
    "# zip object -> iterator, element = tuple of n elements"
   ],
   "metadata": {
    "collapsed": false,
    "ExecuteTime": {
     "end_time": "2023-08-10T10:36:55.823049200Z",
     "start_time": "2023-08-10T10:36:55.715634800Z"
    }
   },
   "id": "985f88907233ea7"
  },
  {
   "cell_type": "markdown",
   "source": [
    "# Loop"
   ],
   "metadata": {
    "collapsed": false
   },
   "id": "e869ffbe0689e25e"
  },
  {
   "cell_type": "markdown",
   "source": [
    "## while loop\n",
    "\n",
    "while \\<condition\\>:\n",
    "&emsp;\\<statements\\>"
   ],
   "metadata": {
    "collapsed": false
   },
   "id": "d3bdcf427d3287ca"
  },
  {
   "cell_type": "code",
   "execution_count": 30,
   "outputs": [
    {
     "name": "stdout",
     "output_type": "stream",
     "text": [
      "0\n",
      "1\n",
      "2\n",
      "3\n",
      "4\n",
      "5\n",
      "6\n",
      "7\n",
      "8\n",
      "9\n"
     ]
    }
   ],
   "source": [
    "i = 0\n",
    "while i < 10:\n",
    "    print(i)\n",
    "    i += 1"
   ],
   "metadata": {
    "collapsed": false,
    "ExecuteTime": {
     "end_time": "2023-08-10T10:37:00.098556200Z",
     "start_time": "2023-08-10T10:36:59.959837400Z"
    }
   },
   "id": "dff2b80da6a81d13"
  },
  {
   "cell_type": "code",
   "execution_count": 31,
   "outputs": [
    {
     "name": "stdout",
     "output_type": "stream",
     "text": [
      "1\n",
      "2\n",
      "exot\n"
     ]
    }
   ],
   "source": [
    "while True:\n",
    "    word = input() \n",
    "    if word == 'exit':\n",
    "        break\n",
    "    print(word)\n",
    "    "
   ],
   "metadata": {
    "collapsed": false,
    "ExecuteTime": {
     "end_time": "2023-08-10T10:37:44.170486400Z",
     "start_time": "2023-08-10T10:37:37.584452600Z"
    }
   },
   "id": "5cd6b88e69103e37"
  },
  {
   "cell_type": "markdown",
   "source": [
    "## For loop\n",
    "\n",
    "for \\<variable> in \\<iterator>:\n",
    "&emsp;\\<statement>"
   ],
   "metadata": {
    "collapsed": false
   },
   "id": "e82c8ecbe42b0dae"
  },
  {
   "cell_type": "code",
   "execution_count": 34,
   "outputs": [
    {
     "name": "stdout",
     "output_type": "stream",
     "text": [
      "1 is odd\n",
      "27 is odd\n",
      "125 is odd\n",
      "343 is odd\n",
      "729 is odd\n"
     ]
    }
   ],
   "source": [
    "for num in ex_list_3:\n",
    "    if num % 2 == 0:\n",
    "        continue\n",
    "    print(f'{num} is odd')\n",
    "        "
   ],
   "metadata": {
    "collapsed": false,
    "ExecuteTime": {
     "end_time": "2023-08-10T10:40:56.959684400Z",
     "start_time": "2023-08-10T10:40:56.945691800Z"
    }
   },
   "id": "89f00d6fbbaf6edd"
  },
  {
   "cell_type": "markdown",
   "source": [
    "# Try, Except, Finally\n",
    "\n",
    "try:\n",
    "&emsp;\\<statement that might cause error>\n",
    "except \\<error>:\n",
    "&emsp;\\<statement to execute when error occurs>\n",
    "finally:\n",
    "&emsp;\\<statement>"
   ],
   "metadata": {
    "collapsed": false
   },
   "id": "469ff90b111ed80"
  },
  {
   "cell_type": "code",
   "execution_count": 42,
   "outputs": [
    {
     "name": "stdout",
     "output_type": "stream",
     "text": [
      "1.0\n"
     ]
    }
   ],
   "source": [
    "n = int(input())\n",
    "try:\n",
    "    temp = 1 / n\n",
    "except ZeroDivisionError:\n",
    "    temp = 'infinity'\n",
    "finally:\n",
    "    print(temp)"
   ],
   "metadata": {
    "collapsed": false,
    "ExecuteTime": {
     "end_time": "2023-08-10T10:54:26.650588700Z",
     "start_time": "2023-08-10T10:54:25.658698100Z"
    }
   },
   "id": "e988fc9cdf31419d"
  },
  {
   "cell_type": "markdown",
   "source": [
    "# Function\n",
    "\n",
    "def \\<function name> (\\<args>):\n",
    "&emsp;\\<statements>"
   ],
   "metadata": {
    "collapsed": false
   },
   "id": "bb80b9fbbd60d33d"
  },
  {
   "cell_type": "code",
   "execution_count": 56,
   "outputs": [
    {
     "data": {
      "text/plain": "5.0"
     },
     "execution_count": 56,
     "metadata": {},
     "output_type": "execute_result"
    }
   ],
   "source": [
    "def foo(a: int, b: int) -> int:\n",
    "    result: int = a + b\n",
    "    return result\n",
    "\n",
    "a_plus_b = foo(2, 3)\n",
    "a_plus_b"
   ],
   "metadata": {
    "collapsed": false,
    "ExecuteTime": {
     "end_time": "2023-08-10T11:01:38.286273300Z",
     "start_time": "2023-08-10T11:01:38.273848600Z"
    }
   },
   "id": "bfb313e58def6364"
  },
  {
   "cell_type": "code",
   "execution_count": 57,
   "outputs": [
    {
     "data": {
      "text/plain": "3"
     },
     "execution_count": 57,
     "metadata": {},
     "output_type": "execute_result"
    }
   ],
   "source": [
    "foo(b=2, a=1)  # keyword arguments"
   ],
   "metadata": {
    "collapsed": false,
    "ExecuteTime": {
     "end_time": "2023-08-10T11:03:26.749953200Z",
     "start_time": "2023-08-10T11:03:26.681977600Z"
    }
   },
   "id": "45a6f55e0002224a"
  },
  {
   "cell_type": "code",
   "execution_count": 67,
   "outputs": [
    {
     "name": "stdout",
     "output_type": "stream",
     "text": [
      "(1, 2, 3, 4, 5, 6, 7)\n",
      "1 2 3 4 5 6 7\n",
      "(1, 2, 3, 4, 5, 6, 7)\n",
      "{'k': 1, 'j': 2, 'i': 1}\n"
     ]
    },
    {
     "data": {
      "text/plain": "32"
     },
     "execution_count": 67,
     "metadata": {},
     "output_type": "execute_result"
    }
   ],
   "source": [
    "# 잘 모르겠으면 positional arguments랑 keyword arguments 검색해서 따로 찾아보세요\n",
    "def foo2(*args, **kwargs) -> int:\n",
    "    # *args = arguments\n",
    "    # **kwargs = keyword arguments\n",
    "    print(args)\n",
    "    print(kwargs)\n",
    "    temp: list = list(kwargs.values())\n",
    "    temp += list(args)\n",
    "    return sum(temp)\n",
    "\n",
    "keywords = {'k': 1, 'j': 2, 'i': 1}\n",
    "position = (1, 2, 3, 4, 5, 6, 7)\n",
    "print(position)\n",
    "print(*position)\n",
    "foo2(*position, **keywords)"
   ],
   "metadata": {
    "collapsed": false,
    "ExecuteTime": {
     "end_time": "2023-08-10T11:09:42.962849600Z",
     "start_time": "2023-08-10T11:09:42.948579800Z"
    }
   },
   "id": "3b7d20a0f687d2f5"
  },
  {
   "cell_type": "markdown",
   "source": [
    "# match, case"
   ],
   "metadata": {
    "collapsed": false
   },
   "id": "3b7b3b0c67473b0a"
  },
  {
   "cell_type": "code",
   "execution_count": 69,
   "outputs": [
    {
     "name": "stdout",
     "output_type": "stream",
     "text": [
      "2\n"
     ]
    }
   ],
   "source": [
    "var = 2\n",
    "match var:\n",
    "    case 1:\n",
    "        print(var)\n",
    "    case 2:\n",
    "        print(var)\n",
    "    case 10:\n",
    "        print('Hit')"
   ],
   "metadata": {
    "collapsed": false,
    "ExecuteTime": {
     "end_time": "2023-08-10T11:18:41.733231100Z",
     "start_time": "2023-08-10T11:18:41.711235Z"
    }
   },
   "id": "14e3bcc8435a92ec"
  },
  {
   "cell_type": "markdown",
   "source": [
    "# class"
   ],
   "metadata": {
    "collapsed": false
   },
   "id": "18e974c2f10b65cb"
  },
  {
   "cell_type": "code",
   "execution_count": 77,
   "outputs": [
    {
     "name": "stdout",
     "output_type": "stream",
     "text": [
      "vector: <2, 3>\n",
      "vector: <3, 8>\n",
      "<__main__.My2DVector object at 0x0000021411E4A1A0>\n",
      "<__main__.My2DVector object at 0x000002141279A3B0>\n"
     ]
    }
   ],
   "source": [
    "class My2DVector:\n",
    "    def __init__(self, x, y):  # dunder init\n",
    "        self.x = x\n",
    "        self.y = y\n",
    "\n",
    "    def print(self):\n",
    "        print(f'vector: <{self.x}, {self.y}>')\n",
    "\n",
    "    # Operator overloading\n",
    "    def __add__(self, other):\n",
    "        # self.x = self.x + other.x\n",
    "        # self.y = self.y + other.y\n",
    "        return My2DVector(self.x + other.x, self.y + other.y)\n",
    "\n",
    "    def __sub__(self, other):\n",
    "        pass\n",
    "\n",
    "    def __mul__(self, other):\n",
    "        return My2DVector(self.x * other.x, self.y * other.y)\n",
    "\n",
    "    def __matmul__(self, other):\n",
    "        pass\n",
    "\n",
    "\n",
    "my_vector = My2DVector(2, 3)\n",
    "my_vector2 = My2DVector(1, 5)\n",
    "added = my_vector.__add__(my_vector2)\n",
    "my_vector.print()\n",
    "added.print()\n",
    "print(my_vector)\n",
    "print(added)"
   ],
   "metadata": {
    "collapsed": false,
    "ExecuteTime": {
     "end_time": "2023-08-10T11:43:27.836729500Z",
     "start_time": "2023-08-10T11:43:27.791648800Z"
    }
   },
   "id": "67a1672b08492f43"
  },
  {
   "cell_type": "code",
   "execution_count": 76,
   "outputs": [
    {
     "name": "stdout",
     "output_type": "stream",
     "text": [
      "vector: <2, 3>\n"
     ]
    }
   ],
   "source": [
    "my_vector = My2DVector(2, 3)\n",
    "my_vector.print()"
   ],
   "metadata": {
    "collapsed": false,
    "ExecuteTime": {
     "end_time": "2023-08-10T11:24:37.025558Z",
     "start_time": "2023-08-10T11:24:37.009629400Z"
    }
   },
   "id": "f6a1066d1632b448"
  },
  {
   "cell_type": "code",
   "execution_count": null,
   "outputs": [],
   "source": [],
   "metadata": {
    "collapsed": false
   },
   "id": "339c8e2997506fff"
  }
 ],
 "metadata": {
  "kernelspec": {
   "display_name": "Python 3",
   "language": "python",
   "name": "python3"
  },
  "language_info": {
   "codemirror_mode": {
    "name": "ipython",
    "version": 2
   },
   "file_extension": ".py",
   "mimetype": "text/x-python",
   "name": "python",
   "nbconvert_exporter": "python",
   "pygments_lexer": "ipython2",
   "version": "2.7.6"
  }
 },
 "nbformat": 4,
 "nbformat_minor": 5
}
